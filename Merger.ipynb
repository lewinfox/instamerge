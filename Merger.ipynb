{
 "cells": [
  {
   "cell_type": "markdown",
   "metadata": {},
   "source": [
    "### Fun with the Instagram API\n",
    "The aim of this project is to create an app that takes a hashtag, retrieves a specified number of tagged photos from Instagram and merges the images together. Inspired by [this article](https://www.theguardian.com/artanddesign/gallery/2017/may/16/jason-shulman-films-condensed-into-a-single-photo-frame-in-pictures)."
   ]
  },
  {
   "cell_type": "code",
   "execution_count": null,
   "metadata": {},
   "outputs": [],
   "source": [
    "import requests\n",
    "import json\n",
    "from PIL import Image\n",
    "import io\n",
    "import numpy as np\n",
    "import matplotlib.pyplot as plt\n",
    "import webbrowser\n",
    "import app_secrets  # Not part of public repo\n",
    "%matplotlib inline"
   ]
  },
  {
   "cell_type": "markdown",
   "metadata": {},
   "source": [
    "App secrets are stored in a separate `app_secrets.py` file which is not part of the public repository."
   ]
  },
  {
   "cell_type": "code",
   "execution_count": null,
   "metadata": {},
   "outputs": [],
   "source": [
    "# App id and secrets are imported from app_secrets.py\n",
    "client_id = app_secrets.app_secrets[\"client_id\"]\n",
    "client_secret = app_secrets.app_secrets[\"client_secret\"]\n",
    "\n",
    "# Arbitrary URL\n",
    "redirect_uri = \"http://localhost:3000/\"\n",
    "\n",
    "# A new browser window will open\n",
    "url = \"https://api.instagram.com/oauth/authorize/?client_id={}&redirect_uri={}&response_type=code&scope=public_content\".format(client_id, redirect_uri)\n",
    "webbrowser.open(url, new=2, autoraise=True)"
   ]
  },
  {
   "cell_type": "code",
   "execution_count": null,
   "metadata": {},
   "outputs": [],
   "source": [
    "# Visit the URL above and copy the auth code out of the response URL\n",
    "#\n",
    "# http://your-redirect-uri?code=CODE\n",
    "#\n",
    "# Paste the auth code below\n",
    "\n",
    "auth_code = \"6cfa993bd1b24e67bd4f7df400af5eec\""
   ]
  },
  {
   "cell_type": "code",
   "execution_count": null,
   "metadata": {},
   "outputs": [],
   "source": [
    "# Use the auth_code to request access token using a POST request\n",
    "oauth_data = {\"client_id\": client_id,\n",
    "              \"client_secret\": client_secret,\n",
    "              \"grant_type\": \"authorization_code\",\n",
    "              \"redirect_uri\": redirect_uri,\n",
    "              \"code\": auth_code}\n",
    "\n",
    "token = requests.post(\"https://api.instagram.com/oauth/access_token\", data = oauth_data)\n",
    "\n",
    "access_token = json.loads(token.content)[\"access_token\"]"
   ]
  },
  {
   "cell_type": "code",
   "execution_count": null,
   "metadata": {},
   "outputs": [],
   "source": [
    "# Function to request photos\n",
    "\n",
    "def get_photos_by_tag(tag, count = 10):\n",
    "    \n",
    "    result = []\n",
    "    \n",
    "    endpoint = \"https://api.instagram.com/v1/tags/{}/media/recent\".format(tag)\n",
    "    \n",
    "    params = {\"access_token\": access_token,\n",
    "              \"count\": count}\n",
    "    \n",
    "    json_response = requests.get(endpoint, params=params)\n",
    "    \n",
    "    response = json.loads(json_response.content)[\"data\"]\n",
    "    \n",
    "    if len(response) > 0:\n",
    "        \n",
    "        print(\"{} photos found\".format(len(response)))\n",
    "        \n",
    "        for photo in response:\n",
    "            p = photo[\"images\"][\"standard_resolution\"]\n",
    "            photo_url = p[\"url\"]\n",
    "            with requests.get(photo_url) as url:\n",
    "                p[\"object\"] = io.BytesIO(url.content)\n",
    "            \n",
    "            result.append(p)\n",
    "    else:\n",
    "        print(\"No photos found\")\n",
    "    \n",
    "    return result\n"
   ]
  },
  {
   "cell_type": "code",
   "execution_count": null,
   "metadata": {},
   "outputs": [],
   "source": [
    "# Retrieve images\n",
    "images = get_photos_by_tag(\"igersbristol\")"
   ]
  },
  {
   "cell_type": "code",
   "execution_count": null,
   "metadata": {},
   "outputs": [],
   "source": [
    "# Merge images\n",
    "\n",
    "n_photos = len(images)\n",
    "# Create array of floats to store the image\n",
    "arr = np.zeros((640, 640, 3), np.float)\n",
    "\n",
    "# Iterate through images, scale pixel values and add to output array\n",
    "for im in images:\n",
    "    imarr = np.array(Image.open(im[\"object\"]), dtype = np.float)\n",
    "    arr += imarr / n_photos\n",
    "\n",
    "# Round values and cast as 8-bit int\n",
    "arr = np.array(np.round(arr), dtype = np.uint8)"
   ]
  },
  {
   "cell_type": "code",
   "execution_count": null,
   "metadata": {},
   "outputs": [],
   "source": [
    "# Show the final merged image\n",
    "plt.imshow(arr)"
   ]
  }
 ],
 "metadata": {
  "kernelspec": {
   "display_name": "Python 3",
   "language": "python",
   "name": "python3"
  },
  "language_info": {
   "codemirror_mode": {
    "name": "ipython",
    "version": 3
   },
   "file_extension": ".py",
   "mimetype": "text/x-python",
   "name": "python",
   "nbconvert_exporter": "python",
   "pygments_lexer": "ipython3",
   "version": "3.6.5"
  }
 },
 "nbformat": 4,
 "nbformat_minor": 2
}
